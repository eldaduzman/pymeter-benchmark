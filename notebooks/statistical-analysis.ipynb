{
 "cells": [
  {
   "cell_type": "code",
   "execution_count": null,
   "metadata": {},
   "outputs": [],
   "source": [
    "import os\n",
    "import json\n",
    "import pandas as pd\n",
    "from numpy import std, mean, sqrt\n",
    "from scipy.stats import ttest_ind\n",
    "import plotly.figure_factory as ff\n",
    "import plotly.express as px\n",
    "import plotly.graph_objects as go"
   ]
  },
  {
   "cell_type": "code",
   "execution_count": null,
   "metadata": {},
   "outputs": [],
   "source": [
    "pd.options.display.float_format = '{:,.2f}'.format"
   ]
  },
  {
   "cell_type": "code",
   "execution_count": null,
   "metadata": {},
   "outputs": [],
   "source": [
    "def get_all_subdirs(dir):\n",
    "    for x in [name for name in os.listdir(dir)  if os.path.isdir(os.path.join(dir, name))]:\n",
    "        try:\n",
    "            with open((os.path.join(dir, x, \"statistics.json\")), \"r\", encoding=\"utf-8\") as file:\n",
    "                yield json.loads(file.read())[\"Total\"]\n",
    "        except FileNotFoundError:\n",
    "            pass"
   ]
  },
  {
   "cell_type": "code",
   "execution_count": null,
   "metadata": {},
   "outputs": [],
   "source": [
    "def cohen_d(x,y):\n",
    "    nx = len(x)\n",
    "    ny = len(y)\n",
    "    dof = nx + ny - 2\n",
    "    return (mean(x) - mean(y)) / sqrt(((nx-1)*std(x, ddof=1) ** 2 + (ny-1)*std(y, ddof=1) ** 2) / dof)"
   ]
  },
  {
   "cell_type": "code",
   "execution_count": null,
   "metadata": {},
   "outputs": [],
   "source": [
    "path_to_outputs = input(\"insert path to outputs directory\")"
   ]
  },
  {
   "cell_type": "code",
   "execution_count": null,
   "metadata": {},
   "outputs": [],
   "source": [
    "path_to_java = os.path.join(path_to_outputs, \"java_outs\")\n",
    "# java:\n",
    "java_df = pd.DataFrame([x for x in get_all_subdirs(path_to_java)])\n",
    "java_df.head()\n",
    "\n"
   ]
  },
  {
   "cell_type": "code",
   "execution_count": null,
   "metadata": {},
   "outputs": [],
   "source": [
    "path_to_python = os.path.join(path_to_outputs, \"py_outs\")\n",
    "# python:\n",
    "python_df = pd.DataFrame([x for x in get_all_subdirs(path_to_python)])\n",
    "\n",
    "\n",
    "python_df.head()"
   ]
  },
  {
   "cell_type": "code",
   "execution_count": null,
   "metadata": {},
   "outputs": [],
   "source": [
    "def show_table(field):\n",
    "    s, pval = ttest_ind(python_df[field], java_df[field])\n",
    "    es = cohen_d(python_df[field], java_df[field])\n",
    "    result_mat = [\n",
    "        ['N', 'p-value', 'effect size'],\n",
    "        [(len(python_df[field]) +len(java_df[field])) //2 , round(pval, 3), round(es, 3)]\n",
    "    ]\n",
    "\n",
    "    swt_table = ff.create_table(result_mat)\n",
    "    swt_table['data'][0].colorscale=[[0, '#2a3f5f'],[1, '#fffffb']]\n",
    "    swt_table['layout']['height']=100\n",
    "\n",
    "    for i in range(len(swt_table.layout.annotations)):\n",
    "        swt_table.layout.annotations[i].font.size = 30\n",
    "\n",
    "    swt_table.show()\n",
    "\n",
    "def show_histograms(field):\n",
    "    fig = go.Figure()\n",
    "    fig.add_trace(go.Histogram(x=python_df[field], name='python'))\n",
    "\n",
    "    fig.add_trace(go.Histogram(x=java_df[field], name='java'))\n",
    "    fig.show()\n",
    "\n",
    "def show_box(field):\n",
    "\n",
    "    fig = go.Figure()\n",
    "    fig.add_trace(go.Box(y=python_df[field], name=\"python\"))\n",
    "    fig.add_trace(go.Box(y=java_df[field], name = \"java\"))\n",
    "\n",
    "    fig.show()\n",
    "\n",
    "def plot(field):\n",
    "    show_table(field)\n",
    "    show_histograms(field)\n",
    "    show_box(field)\n"
   ]
  },
  {
   "cell_type": "code",
   "execution_count": null,
   "metadata": {},
   "outputs": [],
   "source": [
    "plot(\"sampleCount\")"
   ]
  },
  {
   "cell_type": "code",
   "execution_count": null,
   "metadata": {},
   "outputs": [],
   "source": [
    "plot(\"throughput\")"
   ]
  },
  {
   "cell_type": "code",
   "execution_count": null,
   "metadata": {},
   "outputs": [],
   "source": [
    "plot(\"errorPct\")"
   ]
  },
  {
   "cell_type": "code",
   "execution_count": null,
   "metadata": {},
   "outputs": [],
   "source": [
    "plot(\"meanResTime\")"
   ]
  },
  {
   "cell_type": "code",
   "execution_count": null,
   "metadata": {},
   "outputs": [],
   "source": [
    "# def show_table_2(field):\n",
    "#     s, pval = ttest_ind(python_df[field], java_df[field])\n",
    "#     es = cohen_d(python_df[field], java_df[field])\n",
    "#     result_mat = [\n",
    "#         ['N', 'p-value', 'effect size'],\n",
    "#         [(len(python_df[field]) +len(java_df[field])) //2 , round(pval, 3), round(es, 3)]\n",
    "#     ]\n",
    "\n",
    "#     swt_table = ff.create_table(result_mat)\n",
    "#     swt_table['data'][0].colorscale=[[0, '#2a3f5f'],[1, '#fffffb']]\n",
    "#     swt_table['layout']['height']=200\n",
    "\n",
    "#     for i in range(len(swt_table.layout.annotations)):\n",
    "#         swt_table.layout.annotations[i].font.size = 30\n",
    "\n",
    "#     swt_table.show()\n",
    "\n",
    "# show_table_2(\"meanResTime\")"
   ]
  },
  {
   "cell_type": "code",
   "execution_count": null,
   "metadata": {},
   "outputs": [],
   "source": []
  }
 ],
 "metadata": {
  "kernelspec": {
   "display_name": "Python 3.10.7 ('venv-stats': venv)",
   "language": "python",
   "name": "python3"
  },
  "language_info": {
   "codemirror_mode": {
    "name": "ipython",
    "version": 3
   },
   "file_extension": ".py",
   "mimetype": "text/x-python",
   "name": "python",
   "nbconvert_exporter": "python",
   "pygments_lexer": "ipython3",
   "version": "3.10.7"
  },
  "vscode": {
   "interpreter": {
    "hash": "e1f2f96da0ff7d45ccfba9a9a795c145a5d6f28c95f352ca49910e5c8bf3d0e6"
   }
  }
 },
 "nbformat": 4,
 "nbformat_minor": 2
}
