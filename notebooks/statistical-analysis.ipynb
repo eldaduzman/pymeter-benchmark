{
 "cells": [
  {
   "cell_type": "code",
   "execution_count": null,
   "metadata": {},
   "outputs": [],
   "source": [
    "import os\n",
    "import json\n",
    "import pandas as pd\n",
    "import numpy as np\n",
    "from numpy import std, mean, sqrt\n",
    "from scipy.stats import ttest_ind, mode, skew, kurtosistest\n",
    "import plotly.figure_factory as ff\n",
    "import plotly.express as px\n",
    "import plotly.graph_objects as go"
   ]
  },
  {
   "cell_type": "code",
   "execution_count": null,
   "metadata": {},
   "outputs": [],
   "source": [
    "pd.options.display.float_format = '{:,.2f}'.format"
   ]
  },
  {
   "cell_type": "code",
   "execution_count": null,
   "metadata": {},
   "outputs": [],
   "source": [
    "img_path = \"temp\"\n",
    "fields = (\"sampleCount\", \"throughput\", \"errorPct\", \"meanResTime\")"
   ]
  },
  {
   "cell_type": "code",
   "execution_count": null,
   "metadata": {},
   "outputs": [],
   "source": [
    "def get_all_subdirs(dir):\n",
    "    for x in [name for name in os.listdir(dir)  if os.path.isdir(os.path.join(dir, name))]:\n",
    "        try:\n",
    "            with open((os.path.join(dir, x, \"statistics.json\")), \"r\", encoding=\"utf-8\") as file:\n",
    "                yield json.loads(file.read())[\"Total\"]\n",
    "        except FileNotFoundError:\n",
    "            pass"
   ]
  },
  {
   "cell_type": "code",
   "execution_count": null,
   "metadata": {},
   "outputs": [],
   "source": [
    "def cohen_d(x,y):\n",
    "    nx = len(x)\n",
    "    ny = len(y)\n",
    "    dof = nx + ny - 2\n",
    "    return (mean(x) - mean(y)) / sqrt(((nx-1)*std(x, ddof=1) ** 2 + (ny-1)*std(y, ddof=1) ** 2) / dof)"
   ]
  },
  {
   "cell_type": "code",
   "execution_count": null,
   "metadata": {},
   "outputs": [],
   "source": [
    "path_to_outputs = input(\"insert path to outputs directory\")"
   ]
  },
  {
   "cell_type": "code",
   "execution_count": null,
   "metadata": {},
   "outputs": [],
   "source": [
    "path_to_java = os.path.join(path_to_outputs, \"java_outs\")\n",
    "# java:\n",
    "java_df = pd.DataFrame([x for x in get_all_subdirs(path_to_java)])\n",
    "java_df.head()\n",
    "\n"
   ]
  },
  {
   "cell_type": "code",
   "execution_count": null,
   "metadata": {},
   "outputs": [],
   "source": [
    "path_to_python = os.path.join(path_to_outputs, \"py_outs\")\n",
    "# python:\n",
    "python_df = pd.DataFrame([x for x in get_all_subdirs(path_to_python)])\n",
    "\n",
    "\n",
    "python_df.head()"
   ]
  },
  {
   "cell_type": "code",
   "execution_count": null,
   "metadata": {},
   "outputs": [],
   "source": [
    "def show_table(field):\n",
    "    s, pval = ttest_ind(python_df[field], java_df[field])\n",
    "    es = cohen_d(python_df[field], java_df[field])\n",
    "    sk, k = (skew(python_df[field]), kurtosistest(python_df[field]))\n",
    "    \n",
    "    result_mat = [\n",
    "        [field, 'p-value', 'effect size'],\n",
    "        [(len(python_df[field]) +len(java_df[field])) //2 , round(pval, 3), round(es, 3)]\n",
    "    ]\n",
    "\n",
    "    swt_table = ff.create_table(result_mat)\n",
    "    swt_table['data'][0].colorscale=[[0, '#2a3f5f'],[1, '#fffffb']]\n",
    "    swt_table['layout']['height']=100\n",
    "\n",
    "    for i in range(len(swt_table.layout.annotations)):\n",
    "        swt_table.layout.annotations[i].font.size = 20\n",
    "\n",
    "    swt_table.update_layout(title = field)\n",
    "    png_name = os.path.join(img_path, f\"{field}-table.png\")\n",
    "    swt_table.write_image(png_name)    \n",
    "    swt_table.show()\n",
    "\n",
    "def show_histograms(field):\n",
    "    fig = go.Figure()\n",
    "    fig.add_trace(go.Histogram(x=python_df[field], name='python'))\n",
    "\n",
    "    fig.add_trace(go.Histogram(x=java_df[field], name='java'))\n",
    "    fig.update_layout(title = field)\n",
    "    png_name = os.path.join(img_path, f\"{field}-histogram.png\")\n",
    "    fig.write_image(png_name)\n",
    "    fig.show()\n",
    "\n",
    "def show_box(field):\n",
    "\n",
    "    fig = go.Figure()\n",
    "    fig.add_trace(go.Box(y=python_df[field], name=\"python\"))\n",
    "    fig.add_trace(go.Box(y=java_df[field], name = \"java\"))\n",
    "    fig.update_layout(title = field)\n",
    "    png_name = os.path.join(img_path, f\"{field}-box.png\")\n",
    "    fig.write_image(png_name) \n",
    "    fig.show()\n",
    "\n",
    "def show_diff_mods(field):\n",
    "    pass\n",
    "def plot(field):\n",
    "    show_table(field)\n",
    "    show_histograms(field)\n",
    "    show_box(field)\n"
   ]
  },
  {
   "cell_type": "code",
   "execution_count": null,
   "metadata": {},
   "outputs": [],
   "source": [
    "for f in fields:\n",
    "    plot(f)"
   ]
  },
  {
   "cell_type": "code",
   "execution_count": null,
   "metadata": {},
   "outputs": [],
   "source": [
    "def draw_correlation_matrix(df):\n",
    "    df_corr = df.corr()\n",
    "\n",
    "    x = list(df_corr.columns)\n",
    "    y = list(df_corr.index)\n",
    "    z = np.array(df_corr)\n",
    "\n",
    "    fig = ff.create_annotated_heatmap(\n",
    "        z,\n",
    "        x = x,\n",
    "        y = y ,\n",
    "        annotation_text = np.around(z, decimals=2),\n",
    "        hoverinfo='z',\n",
    "        colorscale=px.colors.diverging.RdBu,\n",
    "        zmin=-1,\n",
    "        zmax=1\n",
    "        )\n",
    "    fig.show()\n",
    "\n"
   ]
  },
  {
   "cell_type": "code",
   "execution_count": null,
   "metadata": {},
   "outputs": [],
   "source": [
    "draw_correlation_matrix(python_df)"
   ]
  },
  {
   "cell_type": "code",
   "execution_count": null,
   "metadata": {},
   "outputs": [],
   "source": [
    "draw_correlation_matrix(java_df)"
   ]
  },
  {
   "cell_type": "code",
   "execution_count": null,
   "metadata": {},
   "outputs": [],
   "source": []
  }
 ],
 "metadata": {
  "kernelspec": {
   "display_name": "Python 3.10.7 ('venv-stats': venv)",
   "language": "python",
   "name": "python3"
  },
  "language_info": {
   "codemirror_mode": {
    "name": "ipython",
    "version": 3
   },
   "file_extension": ".py",
   "mimetype": "text/x-python",
   "name": "python",
   "nbconvert_exporter": "python",
   "pygments_lexer": "ipython3",
   "version": "3.10.7"
  },
  "vscode": {
   "interpreter": {
    "hash": "e1f2f96da0ff7d45ccfba9a9a795c145a5d6f28c95f352ca49910e5c8bf3d0e6"
   }
  }
 },
 "nbformat": 4,
 "nbformat_minor": 2
}
